{
 "cells": [
  {
   "cell_type": "code",
   "execution_count": 1,
   "id": "94cd279c",
   "metadata": {},
   "outputs": [
    {
     "name": "stderr",
     "output_type": "stream",
     "text": [
      "/tmp/ipykernel_541862/3206826948.py:17: DeprecationWarning: `photutils.centroid_com` is a deprecated alias for `photutils.centroids.centroid_com`. Instead, please use `from photutils.centroids import centroid_com` to silence this warning.\n",
      "  from photutils import centroid_com,centroid_sources\n",
      "/tmp/ipykernel_541862/3206826948.py:17: DeprecationWarning: `photutils.centroid_sources` is a deprecated alias for `photutils.centroids.centroid_sources`. Instead, please use `from photutils.centroids import centroid_sources` to silence this warning.\n",
      "  from photutils import centroid_com,centroid_sources\n"
     ]
    }
   ],
   "source": [
    "%matplotlib inline\n",
    "import math\n",
    "import glob\n",
    "from datetime import timedelta\n",
    "import numpy as np\n",
    "import matplotlib.pyplot as plt\n",
    "from astropy.visualization import ZScaleInterval, ImageNormalize\n",
    "from astropy.wcs import WCS\n",
    "from astropy.coordinates import SkyCoord\n",
    "import astropy.units as u\n",
    "from astropy.io import fits\n",
    "from astropy.io import ascii\n",
    "from astropy.time import Time\n",
    "from astropy.stats import sigma_clipped_stats\n",
    "from astropy.table import QTable\n",
    "from astroquery.jplhorizons import Horizons\n",
    "from photutils import centroid_com,centroid_sources\n",
    "from photutils import CircularAperture, aperture_photometry\n",
    "from photutils.aperture import CircularAperture, CircularAnnulus\n",
    "from astropy.wcs import utils\n",
    "from scipy.interpolate import UnivariateSpline\n",
    "import warnings\n",
    "warnings.filterwarnings('ignore')"
   ]
  },
  {
   "cell_type": "code",
   "execution_count": 2,
   "id": "afebf6f2",
   "metadata": {},
   "outputs": [],
   "source": [
    "path = '/home/jmurtagh/143P/'\n",
    "Msun_r = -26.93\n",
    "Msun_i = -27.05\n",
    "rho = 10000\n",
    "fitses = []\n",
    "afrho_r = []\n",
    "afrho_r_err = []\n",
    "afrho_rcor = []\n",
    "afrho_rcor_err = []\n",
    "afrho_i = []\n",
    "afrho_i_err = []\n",
    "afrho_icor = []\n",
    "afrho_icor_err = []\n",
    "mag = []\n",
    "mag_err = []\n",
    "filters = []\n",
    "date = []\n",
    "mjd = []\n",
    "alpha = []\n",
    "rh = []\n",
    "\n",
    "''' read in phase function for correcting to 0 degs. use univariate spline to \n",
    "    interpolate between every degree phase angle so as to get accurate phase function\n",
    "    values later on '''\n",
    "phase = ascii.read('/home/jmurtagh/phase.tbl', delimiter=' ')\n",
    "spl = UnivariateSpline(phase.columns[0], phase.columns[1])\n",
    "spl.set_smoothing_factor(0)\n",
    "alpha_list = np.arange(0, 180, 0.0001)\n",
    "\n",
    "''' read in fits files from desired path and add them to list to be analysed '''\n",
    "for name in sorted(glob.glob(path+'*.fits')):\n",
    "    fitses.append(name)\n",
    "\n",
    "for i in range(len(fitses)):\n",
    "    ''' read in the fits file and open up image data and header '''\n",
    "    fname = fitses[i][fitses[i].find('ztf_'):]\n",
    "    hdu = fits.open(path+fname)\n",
    "    imgdiff = hdu[0].data\n",
    "    hdr = hdu[0].header\n",
    "    \n",
    "    ''' take the time of observation from the fits header and use it to create \n",
    "        a date range for the epochs for astroquery by adding on one day.  '''\n",
    "    dtime = Time(f'{hdr[\"OBSMJD\"]}', format = 'mjd')\n",
    "    dtime.format = 'iso'\n",
    "    dtime2 = dtime + timedelta(days=1)\n",
    "    \n",
    "    ''' query jpl horizons using the date range and with the object id found on\n",
    "        the online jpl horizons service first '''\n",
    "    obj = Horizons(id='90001051', location='I41', epochs={'start':dtime.iso, 'stop':dtime2.iso, 'step':'1d'})\n",
    "    eph = obj.ephemerides(quantities='1,19,20,24,39') #1 = RA + DEC (/decimal degrees, icrf), 19(r) = heliocentric comet dist (/AU), 20(delta) = observer-comet dist (/AU), 24(alpha) = phase angle (/degrees)\n",
    "    \n",
    "    ''' using small angle & s=r*theta, calculate the aperture radius in pixels\n",
    "        for a 10^4km radius aperture. header contains scale of arcsecs/pixel '''\n",
    "    delta_au = eph['delta'][0] * u.au\n",
    "    delta_km = delta_au.to(u.km)\n",
    "    theta_rad = ((10000*u.km)/(delta_km)) * u.rad\n",
    "    theta_arcs = theta_rad.to(u.arcsec)\n",
    "    pix = theta_arcs / hdr['PIXSCALE'] * (1/u.arcsec)\n",
    "    \n",
    "    ''' read in relevant details for calculations from header '''\n",
    "    exptime = hdr['EXPTIME']\n",
    "    gain = hdr['GAIN']\n",
    "    rdnoise = hdr['READNOI']\n",
    "    dark = hdr['DARKCUR']\n",
    "    zp = hdr['MAGZP']\n",
    "    wcs = WCS(hdr)\n",
    "    \n",
    "    ''' use RA & DEC guesses from jpl horizons to create skycoord object, turn those \n",
    "        into pixel values, and then use centroid_sources to hone in on object in image '''\n",
    "    coords = SkyCoord(ra=eph['RA'][0], dec=eph['DEC'][0], frame='icrs', unit='deg')\n",
    "    x, y = wcs.world_to_pixel(coords)\n",
    "    xcent, ycent = centroid_sources(imgdiff, x, y, box_size=10, centroid_func=centroid_com)\n",
    "    \n",
    "    ''' using pixel scale calculated, create circular aperture and annulus around object\n",
    "        with desired radii '''\n",
    "    ap_radii=float(pix)\n",
    "    aperture = CircularAperture((xcent[0],ycent[0]), r=ap_radii)\n",
    "    annulus_aperture = CircularAnnulus((xcent[0],ycent[0]), r_in=4*float(pix), r_out=5*float(pix))\n",
    "    annulus_mask = annulus_aperture.to_mask(method='center')\n",
    "    \n",
    "    ''' perform photometry on image '''\n",
    "    phot = aperture_photometry(imgdiff, aperture)\n",
    "    \n",
    "    ''' '''\n",
    "    annulus_data = annulus_mask.multiply(imgdiff)\n",
    "    annulus_data_1d = annulus_data[annulus_mask.data > 0]\n",
    "    _, bkg_median, _ = sigma_clipped_stats(annulus_data_1d)\n",
    "    phot['sky_bkg'] = bkg_median\n",
    "    \n",
    "    ''' '''\n",
    "    phot['aper_sky'] = bkg_median * aperture.area\n",
    "    phot['counts_minus_sky'] = phot['aperture_sum'] - phot['aper_sky'] \n",
    "    n_target=phot['counts_minus_sky']\n",
    "    n_sky=phot['aper_sky']\n",
    "    n_dark=dark*exptime\n",
    "    err_electrons=np.sqrt(gain*n_target + gain*n_sky + n_dark*aperture.area + rdnoise*rdnoise*aperture.area)\n",
    "    err_adus=err_electrons/gain\n",
    "    phot['uncertainty'] = err_adus\n",
    "    \n",
    "    ''' calculate a magnitude from the counts calculated. if the magnitude returns a nan\n",
    "        value, ignore it and skip to the next image as it will be unusable data. otherwise,\n",
    "        plot the image centered on the comet with the aperture overplotted and magnitude\n",
    "        and filter labelled, and append any useful details to lists at end'''\n",
    "    m = -2.5 * np.log10(phot['counts_minus_sky']) + zp\n",
    "    \n",
    "    if math.isnan(m[0]) == True:\n",
    "        pass\n",
    "    else:\n",
    "#         fig = plt.figure()\n",
    "#         ax = plt.subplot(projection = wcs)\n",
    "#         plt.imshow(imgdiff, cmap='gray', norm=ImageNormalize(imgdiff, interval=ZScaleInterval()))\n",
    "#         plt.xlim(int(xcent)-50, int(xcent)+50)\n",
    "#         plt.ylim(int(ycent)-50, int(ycent)+50)\n",
    "        \n",
    "#         plt.grid(color='w', which='major')\n",
    "#         plt.xlabel('RA')\n",
    "#         plt.ylabel('DEC')\n",
    "        \n",
    "#         ap_patches = aperture.plot(color='white', lw=2)\n",
    "#         ann_patches = annulus_aperture.plot(color='red', lw=2)\n",
    "        \n",
    "#         plt.title(f'{dtime}')\n",
    "#         plt.legend([ap_patches],[f'Mag: {m[0]:.4}  Filter: {hdr[\"FILTER\"]}'])\n",
    "#         plt.show()\n",
    "        \n",
    "        ''' find the index of the value of alpha in the phase function curve. need to \n",
    "            round alpha_list to 4dp as there are floating point issues in finding matches \n",
    "            otherwise. then find value of phase function for that phase angle '''\n",
    "        idx = np.where(eph['alpha'][0] == np.round(alpha_list,4))[0][0]\n",
    "        phasefunc = spl(alpha_list)[idx]\n",
    "        \n",
    "        mag.append(m[0])\n",
    "        filters.append(hdr['FILTER'])\n",
    "        date.append(dtime)\n",
    "        mjd.append(hdr['OBSMJD'])\n",
    "        alpha.append(eph['alpha'][0])\n",
    "        rh.append(eph['r'][0])\n",
    "        \n",
    "        ''' calculate the afrho value for the specified filter that the image being analysed\n",
    "            is in (found in the header value) using the magnitude of the sun in said filter. \n",
    "            uncertainties are propagated using standard formulae, split into parts as it is \n",
    "            very hard to follow the lines of thought of each error on one single line'''\n",
    "        if hdr['FILTER'] == 'ZTF r' or 'ZTF_r':\n",
    "            afrho = (((10**(-0.4 * (m[0] - Msun_r))) *(4 * eph['r'][0]**2 * delta_km**2 )/(rho * u.km)).to(u.cm)).value\n",
    "            \n",
    "            delr = delta_km.value**2 * (eph['r'][0]*u.au).to(u.km).value**2\n",
    "            a = (2 * delta_km * eph['r_3sigma'][0]).value\n",
    "            b = (2 * (eph['r'][0] * u.au).to(u.km) * eph['r_3sigma'][0]).value\n",
    "            c = (delr * np.sqrt((a/delta_km.value**2)**2 + (b/(eph['r'][0] * u.au).to(u.km).value**2)**2))\n",
    "            d = 4 * c / rho\n",
    "            e = 2.5 * phot['uncertainty'][0] / (phot['counts_minus_sky'][0] * np.log(10))\n",
    "            f = 10**(-0.4*(m[0] - Msun_r)) * np.log(10) * np.sqrt(e**2 + 0.02**2)\n",
    "            x = 10**(-0.4*(m[0]-Msun_r))\n",
    "            y = 4 * delta_km.value**2 * (eph['r'][0]*u.au).to(u.km).value**2 / rho\n",
    "            g = afrho * np.sqrt((f/x)**2 + (d/y)**2)\n",
    "            \n",
    "            mag_err.append(e)\n",
    "            afrho_r_err.append(g)\n",
    "            afrho_r.append(afrho)\n",
    "            afrho_rcor.append(afrho/phasefunc)\n",
    "            afrho_rcor_err.append(g/phasefunc)\n",
    "        else:\n",
    "            afrho = (((10**(-0.4 * (m[0] - Msun_i))) *(4 * eph['r'][0]**2 * delta_km**2 )/(rho * u.km)).to(u.cm)).value\n",
    "            \n",
    "            delr = delta_km.value**2 * (eph['r'][0]*u.au).to(u.km).value**2\n",
    "            a = (2 * delta_km * eph['r_3sigma'][0]).value\n",
    "            b = (2 * (eph['r'][0] * u.au).to(u.km) * eph['r_3sigma'][0]).value\n",
    "            c = (delr * np.sqrt((a/delta_km.value**2)**2 + (b/(eph['r'][0] * u.au).to(u.km).value**2)**2))\n",
    "            d = 4 * c / rho\n",
    "            e = 2.5 * phot['uncertainty'][0] / (phot['counts_minus_sky'][0] * np.log(10))\n",
    "            f = 10**(-0.4*(m[0] - Msun_r)) * np.log(10) * np.sqrt(e**2 + 0.02**2)\n",
    "            x = 10**(-0.4*(m[0]-Msun_r))\n",
    "            y = 4 * delta_km.value**2 * (eph['r'][0]*u.au).to(u.km).value**2 / rho\n",
    "            g = afrho * np.sqrt((f/x)**2 + (d/y)**2)\n",
    "            \n",
    "            mag_err.append(e)\n",
    "            afrho_i_err.append(g)\n",
    "            afrho_i.append(afrho)\n",
    "            afrho_icor.append(afrho/phasefunc)\n",
    "            afrho_icor_err.append(g/phasefunc)"
   ]
  },
  {
   "cell_type": "code",
   "execution_count": 3,
   "id": "9544dcb9",
   "metadata": {
    "scrolled": true
   },
   "outputs": [
    {
     "data": {
      "image/png": "[encoded data removed]",
      "text/plain": [
       "<Figure size 432x288 with 1 Axes>"
      ]
     },
     "metadata": {
      "needs_background": "light"
     },
     "output_type": "display_data"
    }
   ],
   "source": [
    "''' create plot of afrho in r filter as a function of mjd with perihelion marked by dashed\n",
    "    line '''\n",
    "fig=plt.figure()\n",
    "plt.errorbar(mjd, afrho_r, yerr=afrho_r_err, fmt='rx', label = r'A($\\alpha$)f$\\rho$')\n",
    "plt.errorbar(mjd, afrho_rcor, yerr=afrho_rcor_err, fmt='bx', label = r'A($0^\\circ$)f$\\rho$')\n",
    "plt.xlabel(r'Date /MJD')\n",
    "plt.ylabel(r'Af$\\rho$ /cm')\n",
    "\n",
    "n = [0, 1, 2, 3, 4, 5, 6, 7, 8, 9, 10, 11, 12, 13, 14]\n",
    "for i, txt in enumerate(n):\n",
    "    plt.annotate(txt, (mjd[i], afrho_r[i]))\n",
    "    \n",
    "plt.legend()\n",
    "plt.show()"
   ]
  },
  {
   "cell_type": "code",
   "execution_count": 4,
   "id": "2b8576e6",
   "metadata": {},
   "outputs": [
    {
     "data": {
      "image/png": "[encoded data removed]",
      "text/plain": [
       "<Figure size 432x288 with 1 Axes>"
      ]
     },
     "metadata": {
      "needs_background": "light"
     },
     "output_type": "display_data"
    }
   ],
   "source": [
    "fig=plt.figure()\n",
    "plt.errorbar(rh, afrho_r, yerr=afrho_r_err, fmt='rx', label = r'A($\\alpha$)f$\\rho$')\n",
    "plt.errorbar(rh, afrho_rcor, yerr=afrho_rcor_err, fmt='bx', label = r'A($0^\\circ$)f$\\rho$')\n",
    "plt.xlabel(r'Heliocentric Distance R$_H$ /AU')\n",
    "plt.ylabel(r'Af$\\rho$ /cm')\n",
    "\n",
    "n = [0, 1, 2, 3, 4, 5, 6, 7, 8, 9, 10, 11, 12, 13, 14]\n",
    "for i, txt in enumerate(n):\n",
    "    plt.annotate(txt, (rh[i], afrho_r[i]))\n",
    "    \n",
    "plt.legend()\n",
    "plt.show()"
   ]
  },
  {
   "cell_type": "code",
   "execution_count": 5,
   "id": "586d977b",
   "metadata": {},
   "outputs": [
    {
     "name": "stdout",
     "output_type": "stream",
     "text": [
      "17.494956552858433 58199.3344329 0.010714459144870236 2.552149510946\n",
      "16.473741065697393 58219.2808565 -0.002771571590129973 2.538663480211\n",
      "16.856306818512365 58219.3044792 -0.002783169820129938 2.538651881981\n",
      "16.524386076414917 58224.2776968 -0.004992196790130077 2.536442855011\n",
      "16.866611790597858 58230.2511921 -0.007031147412130068 2.534403904389\n",
      "16.937234213981704 58233.1890856 -0.007787090208129843 2.533647961593\n",
      "17.38813128691846 58247.2318866 -0.00914370919912999 2.532291342602\n",
      "17.593807081161245 58250.2336343 -0.008948789956130021 2.532486261845\n",
      "18.252451257571952 58269.1646759 -0.0037925675341301535 2.537642484267\n",
      "17.87418355952232 58277.2319444 0.0004518668158701722 2.541886918617\n",
      "17.94741408078834 58277.252963 0.0004645099558699961 2.541899561757\n",
      "18.10382957546049 58280.1712616 0.0022995254638700224 2.543734577265\n",
      "18.45926941434964 58283.1893981 0.004363121624869848 2.545798173426\n",
      "18.223239897693873 58289.2147106 0.008984081604869854 2.550419133406\n",
      "18.418005273499205 58293.2351042 0.012436300611870177 2.553871352413\n",
      "[2.552149510946, 2.538663480211, 2.538651881981, 2.536442855011, 2.534403904389, 2.533647961593, 2.532291342602, 2.532486261845, 2.537642484267, 2.541886918617, 2.541899561757, 2.543734577265, 2.545798173426, 2.550419133406, 2.553871352413]\n"
     ]
    },
    {
     "data": {
      "text/plain": [
       "<function matplotlib.pyplot.show(close=None, block=None)>"
      ]
     },
     "execution_count": 5,
     "metadata": {},
     "output_type": "execute_result"
    },
    {
     "data": {
      "image/png": "[encoded data removed]",
      "text/plain": [
       "<Figure size 720x360 with 2 Axes>"
      ]
     },
     "metadata": {
      "needs_background": "light"
     },
     "output_type": "display_data"
    }
   ],
   "source": [
    "''' create plot of the variation in magnitude in r filter as a function of mjd, with\n",
    "    perihelion marked by dashed line '''\n",
    "fig, (ax1, ax2) = plt.subplots(1, 2, figsize=(10,5), sharey=True)\n",
    "ax1.errorbar(mjd, mag, yerr=mag_err, fmt='bx')\n",
    "ax1.invert_yaxis()\n",
    "perihelion_jd = 2458245.80250\n",
    "perihelion_mjd = perihelion_jd - 2400000.5\n",
    "peri = ax1.vlines(perihelion_mjd, ymin=16.5, ymax=18.5, linestyle='dashed', color='r', label = f'Perihelion (MJD {perihelion_mjd:.2f})')\n",
    "ax1.set_xlabel('Date /MJD')\n",
    "ax1.set_ylabel('Magnitude in ZTF_r')\n",
    "ax1.legend(loc='upper right')\n",
    "\n",
    "dist = np.array(rh) - 2.54143505180113\n",
    "ax2.errorbar(dist, mag, yerr=mag_err, fmt='bx')\n",
    "ax2.invert_yaxis()\n",
    "peri  = ax2.vlines(0, ymin=16.5, ymax=18.5, linestyle='dashed', color='r', label = f'Perihelion (2.541 AU)')\n",
    "ax2.set_xlabel('$\\Delta$Heliocentric Distance R$_H$ /AU')\n",
    "ax2.invert_yaxis()\n",
    "ax2.legend(loc = 'upper right')\n",
    "\n",
    "n = [0, 1, 2, 3, 4, 5, 6, 7, 8, 9, 10, 11, 12, 13, 14]\n",
    "\n",
    "for i, txt in enumerate(n):\n",
    "    ax1.annotate(txt, (mjd[i], mag[i]))\n",
    "    ax2.annotate(txt, (dist[i], mag[i]))\n",
    "\n",
    "for i in range(len(mag)):\n",
    "    print(mag[i], mjd[i], dist[i], rh[i])\n",
    "    \n",
    "# idx = np.where(rh == np.min(rh))[0][0]\n",
    "# print(idx)\n",
    "# rh[0:idx] *= int(-1.0)\n",
    "print(rh)\n",
    "\n",
    "plt.tight_layout()\n",
    "plt.show"
   ]
  },
  {
   "cell_type": "code",
   "execution_count": 6,
   "id": "554fa72f",
   "metadata": {},
   "outputs": [],
   "source": [
    "idx = np.where(rh == np.min(rh))[0][0]\n",
    "for i in range(idx):\n",
    "    rh[i] = rh[i] * -1"
   ]
  },
  {
   "cell_type": "code",
   "execution_count": 16,
   "id": "a417753f",
   "metadata": {},
   "outputs": [
    {
     "data": {
      "image/png": "[encoded data removed]",
      "text/plain": [
       "<Figure size 432x288 with 2 Axes>"
      ]
     },
     "metadata": {
      "needs_background": "light"
     },
     "output_type": "display_data"
    }
   ],
   "source": [
    "\n",
    "fig, (ax1, ax2) = plt.subplots(1,2,sharey=True)\n",
    "ax1.errorbar(rh[0:idx], mag[0:idx], yerr=mag_err[0:idx], fmt='bx')\n",
    "ax2.errorbar(rh[idx+1:], mag[idx+1:], yerr=mag_err[idx+1:], fmt='bx')\n",
    "ax2.invert_yaxis()\n",
    "\n",
    "ax1.set_xlim(-2.56,-2.532)\n",
    "ax2.set_xlim(2.532, 2.56)\n",
    "\n",
    "ax1.spines['right'].set_visible(False)\n",
    "ax2.spines['left'].set_visible(False)\n",
    "ax1.yaxis.tick_left()\n",
    "ax2.tick_params(labelright='off')\n",
    "ax2.yaxis.tick_right()\n",
    "d = .015 \n",
    "kwargs = dict(transform=ax1.transAxes, color='k', clip_on=False)\n",
    "ax1.plot((1-d,1+d), (-d,+d), **kwargs)\n",
    "ax1.plot((1-d,1+d),(1-d,1+d), **kwargs)\n",
    "kwargs.update(transform=ax2.transAxes)  # switch to the bottom axes\n",
    "ax2.plot((-d,+d), (1-d,1+d), **kwargs)\n",
    "ax2.plot((-d,+d), (-d,+d), **kwargs)\n",
    "\n",
    "\n",
    "\n",
    "\n",
    "n = [0, 1, 2, 3, 4, 5, 6, 7, 8, 9, 10, 11, 12, 13, 14]\n",
    "\n",
    "for i, txt in enumerate(n):\n",
    "    ax1.annotate(txt, (rh[i], mag[i]))\n",
    "    ax2.annotate(txt, (rh[i], mag[i]))"
   ]
  },
  {
   "cell_type": "code",
   "execution_count": null,
   "id": "22c1ee19",
   "metadata": {},
   "outputs": [],
   "source": []
  }
 ],
 "metadata": {
  "kernelspec": {
   "display_name": "Python 3 (ipykernel)",
   "language": "python",
   "name": "python3"
  },
  "language_info": {
   "codemirror_mode": {
    "name": "ipython",
    "version": 3
   },
   "file_extension": ".py",
   "mimetype": "text/x-python",
   "name": "python",
   "nbconvert_exporter": "python",
   "pygments_lexer": "ipython3",
   "version": "3.8.8"
  }
 },
 "nbformat": 4,
 "nbformat_minor": 5
}
